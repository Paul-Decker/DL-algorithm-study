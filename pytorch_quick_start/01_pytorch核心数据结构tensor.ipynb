{
 "cells": [
  {
   "cell_type": "markdown",
   "metadata": {},
   "source": [
    "### torch.empty()：声明一个未初始化的矩阵"
   ]
  },
  {
   "cell_type": "code",
   "execution_count": 2,
   "metadata": {},
   "outputs": [
    {
     "name": "stdout",
     "output_type": "stream",
     "text": [
      "tensor([[2.6230e+05, 1.8932e-42, 0.0000e+00],\n",
      "        [0.0000e+00, 0.0000e+00, 0.0000e+00],\n",
      "        [0.0000e+00, 0.0000e+00, 0.0000e+00],\n",
      "        [0.0000e+00, 0.0000e+00, 0.0000e+00],\n",
      "        [0.0000e+00, 0.0000e+00, 0.0000e+00]])\n"
     ]
    }
   ],
   "source": [
    "import torch\n",
    "# 创建一个 5×3 的矩阵\n",
    "x = torch.empty(5, 3)\n",
    "print(x)"
   ]
  },
  {
   "cell_type": "markdown",
   "metadata": {},
   "source": [
    "### torch.rand()：随机初始化一个矩阵"
   ]
  },
  {
   "cell_type": "code",
   "execution_count": 2,
   "metadata": {},
   "outputs": [
    {
     "name": "stdout",
     "output_type": "stream",
     "text": [
      "tensor([[0.7603, 0.9944, 0.1590],\n",
      "        [0.7834, 0.0624, 0.1872],\n",
      "        [0.5408, 0.6831, 0.7307],\n",
      "        [0.7364, 0.4590, 0.5095],\n",
      "        [0.1685, 0.0814, 0.1444]])\n",
      "torch.FloatTensor\n"
     ]
    }
   ],
   "source": [
    "import torch\n",
    "# 创建一个随机初始化的 5*3 矩阵\n",
    "rand_x = torch.rand(5, 3)\n",
    "print(rand_x)\n",
    "print(rand_x.type())"
   ]
  },
  {
   "cell_type": "markdown",
   "metadata": {},
   "source": [
    "### torch.randint()：随机初始化一个矩阵（指定随机数的取值范围）"
   ]
  },
  {
   "cell_type": "code",
   "execution_count": 9,
   "metadata": {},
   "outputs": [
    {
     "name": "stdout",
     "output_type": "stream",
     "text": [
      "tensor([[5, 3, 1],\n",
      "        [3, 7, 5],\n",
      "        [8, 6, 8]])\n"
     ]
    }
   ],
   "source": [
    "import torch\n",
    "# 前两个参数指定了随机数的取值范围为：[1, 10)\n",
    "# 第三个参数指定 tensor 的 shape\n",
    "x = torch.randint(1, 10, [3, 3])\n",
    "print(x)"
   ]
  },
  {
   "cell_type": "markdown",
   "metadata": {},
   "source": [
    "### torch.randn()：随机初始化一个矩阵（数值服从正态分布N(0, 1)）"
   ]
  },
  {
   "cell_type": "code",
   "execution_count": 11,
   "metadata": {},
   "outputs": [
    {
     "name": "stdout",
     "output_type": "stream",
     "text": [
      "tensor([[ 0.3734, -0.3038,  1.7177],\n",
      "        [-0.4694,  1.8895,  0.2481],\n",
      "        [ 0.0937,  0.5411,  0.1127]])\n"
     ]
    }
   ],
   "source": [
    "import torch \n",
    "# 生成一个 shape 为 (3, 3) 的随机矩阵，数值服从正态分布 N(0, 1)\n",
    "x = torch.randn(3, 3)\n",
    "print(x)\n"
   ]
  },
  {
   "cell_type": "markdown",
   "metadata": {},
   "source": [
    "### torch.normal()：返回从单独的正态分布中提取的随机数的张量"
   ]
  },
  {
   "cell_type": "code",
   "execution_count": 12,
   "metadata": {},
   "outputs": [
    {
     "name": "stdout",
     "output_type": "stream",
     "text": [
      "tensor([[1.6425, 2.0073],\n",
      "        [0.5646, 0.0795]])\n",
      "tensor([[-0.8937, -0.1693],\n",
      "        [ 1.2633,  3.8531]])\n"
     ]
    }
   ],
   "source": [
    "import torch\n",
    "# 从一个标准正态分布N～(0,1)，提取一个2x2的矩阵\n",
    "x = torch.normal(mean=0.,std=1.,size=(2,2))\n",
    "print(x)\n",
    "\n",
    "# 也可以让每一个值服从不同的正态分布，我们还是生成2x2的矩阵\n",
    "y = torch.normal(mean=torch.arange(4.),std=torch.arange(1.,0.6,-0.1)).reshape(2,2)\n",
    "print(y)"
   ]
  },
  {
   "cell_type": "markdown",
   "metadata": {},
   "source": [
    "### torch.zeros()、torch.ones()、torch.eye()：创建数值皆为 0、1 的矩阵"
   ]
  },
  {
   "cell_type": "code",
   "execution_count": 20,
   "metadata": {},
   "outputs": [
    {
     "name": "stdout",
     "output_type": "stream",
     "text": [
      "tensor([[0, 0, 0],\n",
      "        [0, 0, 0],\n",
      "        [0, 0, 0],\n",
      "        [0, 0, 0],\n",
      "        [0, 0, 0]])\n",
      "tensor([[1., 1., 1.],\n",
      "        [1., 1., 1.],\n",
      "        [1., 1., 1.]])\n",
      "tensor([[1., 0., 0., 0.],\n",
      "        [0., 1., 0., 0.],\n",
      "        [0., 0., 1., 0.]])\n"
     ]
    }
   ],
   "source": [
    "import torch\n",
    "# 创建一个数值皆是 0，类型为 long 的矩阵\n",
    "zero_x = torch.zeros(5, 3, dtype=torch.long)\n",
    "print(zero_x)\n",
    "\n",
    "# 创建一个数值皆是 1\n",
    "one_x = torch.ones(3, 3)\n",
    "print(one_x)\n",
    "\n",
    "# 创建一个主对角线全为 1，其余均为 0 的矩阵\n",
    "eye_x = torch.eye(3, 4)\n",
    "print(eye_x)"
   ]
  },
  {
   "cell_type": "markdown",
   "metadata": {},
   "source": [
    "### torch.full()：创建一个数值都一样的矩阵"
   ]
  },
  {
   "cell_type": "code",
   "execution_count": 13,
   "metadata": {},
   "outputs": [
    {
     "name": "stdout",
     "output_type": "stream",
     "text": [
      "tensor([[7, 7, 7],\n",
      "        [7, 7, 7]])\n",
      "tensor(7)\n",
      "tensor([7])\n"
     ]
    }
   ],
   "source": [
    "import torch \n",
    "# 创建一个 shape 为 (2, 3)，数值都为 7 的矩阵\n",
    "x = torch.full([2, 3], 7)\n",
    "print(x)\n",
    "# 创建一个维度为 0，数值为 7 的标量\n",
    "x = torch.full([], 7)\n",
    "print(x)\n",
    "# 创建一个维度为 1，数值为 7 的矩阵\n",
    "x = torch.full([1], 7)\n",
    "print(x)"
   ]
  },
  {
   "cell_type": "markdown",
   "metadata": {},
   "source": [
    "### torch.arange()：创建一个数值为等差数列的矩阵"
   ]
  },
  {
   "cell_type": "code",
   "execution_count": 14,
   "metadata": {},
   "outputs": [
    {
     "name": "stdout",
     "output_type": "stream",
     "text": [
      "tensor([1, 2, 3, 4, 5, 6, 7, 8, 9])\n",
      "tensor([1, 3, 5, 7, 9])\n"
     ]
    }
   ],
   "source": [
    "import torch\n",
    "# 创建一个数值为 1-10（不包括10）的矩阵\n",
    "x = torch.arange(1, 10)\n",
    "print(x)\n",
    "\n",
    "# 创建一个数值为 1-10（不包括10）且公差（步长）为 2 的矩阵\n",
    "x = torch.arange(1, 10, 2)\n",
    "print(x)"
   ]
  },
  {
   "cell_type": "markdown",
   "metadata": {},
   "source": [
    "### torch.linspace()、torch.logspace()：创建一个指定元素个数的矩阵"
   ]
  },
  {
   "cell_type": "code",
   "execution_count": 17,
   "metadata": {},
   "outputs": [
    {
     "name": "stdout",
     "output_type": "stream",
     "text": [
      "tensor([ 0.0000,  3.3333,  6.6667, 10.0000])\n",
      "tensor([ 0.0000,  1.1111,  2.2222,  3.3333,  4.4444,  5.5556,  6.6667,  7.7778,\n",
      "         8.8889, 10.0000])\n"
     ]
    }
   ],
   "source": [
    "import torch \n",
    "# 创建一个数值从 0 到 10 均匀分布，元素个数为 4 的矩阵\n",
    "x = torch.linspace(0, 10, steps=4)\n",
    "print(x)\n",
    "\n",
    "# 创建一个数值从 0 到 10（不包括10）均匀分布，元素个数为 10 的矩阵\n",
    "x = torch.linspace(0, 10, steps=10)\n",
    "print(x)"
   ]
  },
  {
   "cell_type": "code",
   "execution_count": 18,
   "metadata": {},
   "outputs": [
    {
     "name": "stdout",
     "output_type": "stream",
     "text": [
      "tensor([1.0000, 0.7743, 0.5995, 0.4642, 0.3594, 0.2783, 0.2154, 0.1668, 0.1292,\n",
      "        0.1000])\n"
     ]
    }
   ],
   "source": [
    "# 创建一个数值从 10^0 到 10^-1 均匀分布，元素个数为 10 的矩阵\n",
    "x = torch.logspace(0, -1, 10)\n",
    "print(x)"
   ]
  },
  {
   "cell_type": "markdown",
   "metadata": {},
   "source": [
    "### torch.randperm(n)：创建一个 0~n（不包括n）随机打乱后获得的数字序列"
   ]
  },
  {
   "cell_type": "code",
   "execution_count": 22,
   "metadata": {},
   "outputs": [
    {
     "name": "stdout",
     "output_type": "stream",
     "text": [
      "tensor([6, 2, 3, 7, 0, 1, 5, 9, 8, 4])\n"
     ]
    }
   ],
   "source": [
    "import torch\n",
    "# 0 到 10（不包括10）且顺序打乱的数字序列\n",
    "x = torch.randperm(10)\n",
    "print(x)"
   ]
  },
  {
   "cell_type": "markdown",
   "metadata": {},
   "source": [
    "### torch.tensor()：直接传递数值来创建"
   ]
  },
  {
   "cell_type": "code",
   "execution_count": 11,
   "metadata": {},
   "outputs": [
    {
     "name": "stdout",
     "output_type": "stream",
     "text": [
      "tensor([5.5000, 3.0000])\n",
      "tensor([[1, 2, 3],\n",
      "        [4, 5, 6],\n",
      "        [7, 8, 9]])\n"
     ]
    }
   ],
   "source": [
    "import torch\n",
    "# 直接用列表创建\n",
    "tensor1 = torch.tensor([5.5, 3])\n",
    "print(tensor1)\n",
    "\n",
    "# 二维列表\n",
    "tensor2 = torch.tensor([[1, 2, 3], [4, 5, 6], [7, 8, 9]])\n",
    "print(tensor2)"
   ]
  },
  {
   "cell_type": "code",
   "execution_count": 7,
   "metadata": {},
   "outputs": [
    {
     "name": "stdout",
     "output_type": "stream",
     "text": [
      "torch.Size([])\n",
      "0\n",
      "torch.Size([1])\n",
      "1\n"
     ]
    }
   ],
   "source": [
    "# 如果不用列表，之间用数值创建，则 tensor 是 0 维的标量\n",
    "x = torch.tensor(1)\n",
    "print(x.size())\n",
    "print(x.dim())\n",
    "# 如果使用了列表创建 tensor ，则列表与 tensor 维度相同（向量）\n",
    "y = torch.tensor([1])\n",
    "print(y.size())\n",
    "print(y.dim())"
   ]
  },
  {
   "cell_type": "code",
   "execution_count": 8,
   "metadata": {},
   "outputs": [
    {
     "name": "stdout",
     "output_type": "stream",
     "text": [
      "tensor(3)\n",
      "tensor([0., 0., 0.])\n"
     ]
    }
   ],
   "source": [
    "import torch\n",
    "x = torch.tensor(3)\n",
    "print(x)\n",
    "y = torch.Tensor(3)\n",
    "print(y)"
   ]
  },
  {
   "cell_type": "markdown",
   "metadata": {},
   "source": [
    "### tensor.new_ones()：根据已有的 tensor 变量创建新的数值为1的 tensor 变量"
   ]
  },
  {
   "cell_type": "code",
   "execution_count": 12,
   "metadata": {},
   "outputs": [
    {
     "name": "stdout",
     "output_type": "stream",
     "text": [
      "tensor([5.5000, 3.0000])\n",
      "tensor([[1., 1., 1.],\n",
      "        [1., 1., 1.],\n",
      "        [1., 1., 1.],\n",
      "        [1., 1., 1.],\n",
      "        [1., 1., 1.]], dtype=torch.float64)\n"
     ]
    }
   ],
   "source": [
    "import torch\n",
    "tensor1 = torch.tensor([5.5, 3])\n",
    "print(tensor1)\n",
    "# 显示定义新的尺寸是 5*3，数值类型是 torch.double\n",
    "  # new_* 方法需要输入 tensor 大小\n",
    "tensor3 = tensor1.new_ones(5, 3, dtype=torch.double)\n",
    "print(tensor3)"
   ]
  },
  {
   "cell_type": "markdown",
   "metadata": {},
   "source": [
    "### torch.rand_like(old_tensor)：保留相同的尺寸大小"
   ]
  },
  {
   "cell_type": "code",
   "execution_count": 1,
   "metadata": {},
   "outputs": [
    {
     "name": "stdout",
     "output_type": "stream",
     "text": [
      "tensor([[1, 2, 3],\n",
      "        [4, 5, 6],\n",
      "        [7, 8, 9]])\n",
      "tensor([[ 0.0905, -0.8127,  1.2278],\n",
      "        [ 0.8381,  0.2935,  0.0379],\n",
      "        [-0.2319, -0.5507, -0.9525]])\n"
     ]
    }
   ],
   "source": [
    "import torch\n",
    "tensor2 = torch.tensor([[1, 2, 3], [4, 5, 6], [7, 8, 9]])\n",
    "print(tensor2)\n",
    "# 修改数值类型\n",
    "tensor4 = torch.randn_like(tensor2, dtype=torch.float)\n",
    "print(tensor4)"
   ]
  }
 ],
 "metadata": {
  "kernelspec": {
   "display_name": "Python 3",
   "language": "python",
   "name": "python3"
  },
  "language_info": {
   "codemirror_mode": {
    "name": "ipython",
    "version": 3
   },
   "file_extension": ".py",
   "mimetype": "text/x-python",
   "name": "python",
   "nbconvert_exporter": "python",
   "pygments_lexer": "ipython3",
   "version": "3.9.18"
  }
 },
 "nbformat": 4,
 "nbformat_minor": 2
}
