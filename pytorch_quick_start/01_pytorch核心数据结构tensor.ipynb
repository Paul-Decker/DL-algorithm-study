{
 "cells": [
  {
   "cell_type": "code",
   "execution_count": 2,
   "metadata": {},
   "outputs": [
    {
     "name": "stdout",
     "output_type": "stream",
     "text": [
      "tensor([[2.6230e+05, 1.8932e-42, 0.0000e+00],\n",
      "        [0.0000e+00, 0.0000e+00, 0.0000e+00],\n",
      "        [0.0000e+00, 0.0000e+00, 0.0000e+00],\n",
      "        [0.0000e+00, 0.0000e+00, 0.0000e+00],\n",
      "        [0.0000e+00, 0.0000e+00, 0.0000e+00]])\n"
     ]
    }
   ],
   "source": [
    "import torch\n",
    "# 创建一个 5×3 的矩阵\n",
    "x = torch.empty(5, 3)\n",
    "print(x)"
   ]
  },
  {
   "cell_type": "code",
   "execution_count": 2,
   "metadata": {},
   "outputs": [
    {
     "name": "stdout",
     "output_type": "stream",
     "text": [
      "tensor([[0.7603, 0.9944, 0.1590],\n",
      "        [0.7834, 0.0624, 0.1872],\n",
      "        [0.5408, 0.6831, 0.7307],\n",
      "        [0.7364, 0.4590, 0.5095],\n",
      "        [0.1685, 0.0814, 0.1444]])\n",
      "torch.FloatTensor\n"
     ]
    }
   ],
   "source": [
    "import torch\n",
    "# 创建一个随机初始化的 5*3 矩阵\n",
    "rand_x = torch.rand(5, 3)\n",
    "print(rand_x)\n",
    "print(rand_x.type())"
   ]
  },
  {
   "cell_type": "code",
   "execution_count": 6,
   "metadata": {},
   "outputs": [
    {
     "name": "stdout",
     "output_type": "stream",
     "text": [
      "tensor([[0, 0, 0],\n",
      "        [0, 0, 0],\n",
      "        [0, 0, 0],\n",
      "        [0, 0, 0],\n",
      "        [0, 0, 0]])\n"
     ]
    }
   ],
   "source": [
    "import torch\n",
    "# 创建一个数值皆是 0，类型为 long 的矩阵\n",
    "zero_x = torch.zeros(5, 3, dtype=torch.long)\n",
    "print(zero_x)"
   ]
  },
  {
   "cell_type": "code",
   "execution_count": 11,
   "metadata": {},
   "outputs": [
    {
     "name": "stdout",
     "output_type": "stream",
     "text": [
      "tensor([5.5000, 3.0000])\n",
      "tensor([[1, 2, 3],\n",
      "        [4, 5, 6],\n",
      "        [7, 8, 9]])\n"
     ]
    }
   ],
   "source": [
    "import torch\n",
    "# 直接用列表创建\n",
    "tensor1 = torch.tensor([5.5, 3])\n",
    "print(tensor1)\n",
    "\n",
    "# 二维列表\n",
    "tensor2 = torch.tensor([[1, 2, 3], [4, 5, 6], [7, 8, 9]])\n",
    "print(tensor2)"
   ]
  },
  {
   "cell_type": "code",
   "execution_count": 12,
   "metadata": {},
   "outputs": [
    {
     "name": "stdout",
     "output_type": "stream",
     "text": [
      "tensor([5.5000, 3.0000])\n",
      "tensor([[1., 1., 1.],\n",
      "        [1., 1., 1.],\n",
      "        [1., 1., 1.],\n",
      "        [1., 1., 1.],\n",
      "        [1., 1., 1.]], dtype=torch.float64)\n"
     ]
    }
   ],
   "source": [
    "import torch\n",
    "tensor1 = torch.tensor([5.5, 3])\n",
    "print(tensor1)\n",
    "# 显示定义新的尺寸是 5*3，数值类型是 torch.double\n",
    "  # new_* 方法需要输入 tensor 大小\n",
    "tensor3 = tensor1.new_ones(5, 3, dtype=torch.double)\n",
    "print(tensor3)"
   ]
  },
  {
   "cell_type": "code",
   "execution_count": 1,
   "metadata": {},
   "outputs": [
    {
     "name": "stdout",
     "output_type": "stream",
     "text": [
      "tensor([[1, 2, 3],\n",
      "        [4, 5, 6],\n",
      "        [7, 8, 9]])\n",
      "tensor([[ 0.0905, -0.8127,  1.2278],\n",
      "        [ 0.8381,  0.2935,  0.0379],\n",
      "        [-0.2319, -0.5507, -0.9525]])\n"
     ]
    }
   ],
   "source": [
    "import torch\n",
    "tensor2 = torch.tensor([[1, 2, 3], [4, 5, 6], [7, 8, 9]])\n",
    "print(tensor2)\n",
    "# 修改数值类型\n",
    "tensor4 = torch.randn_like(tensor2, dtype=torch.float)\n",
    "print(tensor4)"
   ]
  },
  {
   "cell_type": "code",
   "execution_count": 7,
   "metadata": {},
   "outputs": [
    {
     "name": "stdout",
     "output_type": "stream",
     "text": [
      "torch.Size([])\n",
      "0\n",
      "torch.Size([1])\n",
      "1\n"
     ]
    }
   ],
   "source": [
    "# 如果不用列表，之间用数值创建，则 tensor 是 0 维的标量\n",
    "x = torch.tensor(1)\n",
    "print(x.size())\n",
    "print(x.dim())\n",
    "# 如果使用了列表创建 tensor ，则列表与 tensor 维度相同（向量）\n",
    "y = torch.tensor([1])\n",
    "print(y.size())\n",
    "print(y.dim())"
   ]
  }
 ],
 "metadata": {
  "kernelspec": {
   "display_name": "Python 3",
   "language": "python",
   "name": "python3"
  },
  "language_info": {
   "codemirror_mode": {
    "name": "ipython",
    "version": 3
   },
   "file_extension": ".py",
   "mimetype": "text/x-python",
   "name": "python",
   "nbconvert_exporter": "python",
   "pygments_lexer": "ipython3",
   "version": "3.9.18"
  }
 },
 "nbformat": 4,
 "nbformat_minor": 2
}
