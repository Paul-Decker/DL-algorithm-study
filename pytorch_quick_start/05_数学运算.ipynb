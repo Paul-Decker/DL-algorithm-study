{
 "cells": [
  {
   "cell_type": "markdown",
   "metadata": {},
   "source": [
    "### 矩阵相乘\n",
    "1. torch.matmul\n",
    "2. @"
   ]
  },
  {
   "cell_type": "code",
   "execution_count": 5,
   "metadata": {},
   "outputs": [
    {
     "name": "stdout",
     "output_type": "stream",
     "text": [
      "tensor([[1., 1.],\n",
      "        [1., 1.]])\n",
      "tensor([[3., 3.],\n",
      "        [3., 3.]])\n",
      "tensor([[6., 6.],\n",
      "        [6., 6.]])\n",
      "tensor([[6., 6.],\n",
      "        [6., 6.]])\n"
     ]
    }
   ],
   "source": [
    "import torch\n",
    "a = torch.ones(2, 2)\n",
    "b = torch.full([2, 2], 3, dtype=torch.float)\n",
    "print(a)\n",
    "print(b)\n",
    "print(a@b)\n",
    "print(torch.matmul(a, b))\n"
   ]
  },
  {
   "cell_type": "code",
   "execution_count": 12,
   "metadata": {},
   "outputs": [
    {
     "name": "stdout",
     "output_type": "stream",
     "text": [
      "torch.Size([4, 3, 28, 32])\n"
     ]
    }
   ],
   "source": [
    "import torch \n",
    "# 高于2维的矩阵进行矩阵相乘时，只对后面两维进行矩阵相乘，而除了后两维外，其余维度要保持一致\n",
    "a = torch.rand(4, 3, 28, 64)\n",
    "b = torch.rand(4, 3, 64, 32)\n",
    "print((a@b).shape)"
   ]
  },
  {
   "cell_type": "markdown",
   "metadata": {},
   "source": [
    "### tensor.pow(n)：n次方、tensor.sqrt()：平方根"
   ]
  },
  {
   "cell_type": "code",
   "execution_count": 18,
   "metadata": {},
   "outputs": [
    {
     "name": "stdout",
     "output_type": "stream",
     "text": [
      "tensor([[3, 3],\n",
      "        [3, 3]])\n",
      "tensor([[9, 9],\n",
      "        [9, 9]])\n",
      "tensor([[9, 9],\n",
      "        [9, 9]])\n",
      "tensor([[3., 3.],\n",
      "        [3., 3.]])\n",
      "tensor([[0.3333, 0.3333],\n",
      "        [0.3333, 0.3333]])\n"
     ]
    }
   ],
   "source": [
    "import torch \n",
    "a = torch.full([2, 2], 3)\n",
    "print(a)\n",
    "# 2 次方\n",
    "b = a.pow(2)\n",
    "c = a ** 2\n",
    "print(b)\n",
    "\n",
    "print(c)\n",
    "\n",
    "# 平方根 3\n",
    "print(c.sqrt())\n",
    "\n",
    "# 平方根的倒数 1/3\n",
    "print(c.rsqrt())"
   ]
  },
  {
   "cell_type": "markdown",
   "metadata": {},
   "source": [
    "### torch.exp()、torch.log()"
   ]
  },
  {
   "cell_type": "code",
   "execution_count": 21,
   "metadata": {},
   "outputs": [
    {
     "name": "stdout",
     "output_type": "stream",
     "text": [
      "tensor([[2.7183, 2.7183],\n",
      "        [2.7183, 2.7183]])\n",
      "tensor([[7.3891, 7.3891],\n",
      "        [7.3891, 7.3891]])\n",
      "tensor([[1., 1.],\n",
      "        [1., 1.]])\n",
      "tensor([[2., 2.],\n",
      "        [2., 2.]])\n"
     ]
    }
   ],
   "source": [
    "import torch \n",
    "a = torch.full([2, 2], 1)\n",
    "# e^1 = 2.71\n",
    "b = torch.exp(a)\n",
    "print(b)\n",
    "\n",
    "a.add_(1)\n",
    "# e^2 = 7.38\n",
    "c = torch.exp(a)\n",
    "print(c)\n",
    "\n",
    "# log 默认以 e 为底\n",
    "# 以 2 为底的函数为 log2，同理有 log10\n",
    "d = torch.log(b)\n",
    "e = torch.log(c)\n",
    "print(d)\n",
    "print(e)"
   ]
  },
  {
   "cell_type": "markdown",
   "metadata": {},
   "source": [
    "### 近似值（向上取整、向下取整、取整数部分、取小数部分、四舍五入）"
   ]
  },
  {
   "cell_type": "code",
   "execution_count": 23,
   "metadata": {},
   "outputs": [
    {
     "name": "stdout",
     "output_type": "stream",
     "text": [
      "tensor(4.) tensor(3.) tensor(3.) tensor(0.1400)\n",
      "tensor(3.) tensor(4.)\n"
     ]
    }
   ],
   "source": [
    "import torch \n",
    "a = torch.tensor(3.14)\n",
    "# 近似值（向上取整、向下取整、取整数部分、取小数部分）\n",
    "print(a.ceil(), a.floor(), a.trunc(), a.frac())\n",
    "\n",
    "# 四舍五入\n",
    "b = torch.tensor(3.499)\n",
    "c = torch.tensor(3.511)\n",
    "print(b.round(), c.round())"
   ]
  },
  {
   "cell_type": "markdown",
   "metadata": {},
   "source": [
    "### tensor.clamp()：限幅"
   ]
  },
  {
   "cell_type": "code",
   "execution_count": 28,
   "metadata": {},
   "outputs": [
    {
     "name": "stdout",
     "output_type": "stream",
     "text": [
      "tensor([[  5.5845,  -1.0966,   2.7625],\n",
      "        [ 27.1874,  -9.9242, -21.6876]])\n",
      "tensor([[10.0000, 10.0000, 10.0000],\n",
      "        [27.1874, 10.0000, 10.0000]])\n",
      "tensor([[-10.2177, -18.6620,  15.3624],\n",
      "        [ 25.0338, -16.3466,   0.7395]])\n",
      "tensor([[10.0000, 10.0000, 15.3624],\n",
      "        [20.0000, 10.0000, 10.0000]])\n"
     ]
    }
   ],
   "source": [
    "import torch\n",
    "grand = torch.randn(2, 3) * 15\n",
    "print(grand)\n",
    "\n",
    "# 把最小值限制为 10，低于 10 的数值用 10 替换\n",
    "grand = grand.clamp(10)\n",
    "print(grand)\n",
    "\n",
    "grand2 = torch.randn(2, 3) * 15\n",
    "print(grand2)\n",
    "\n",
    "# 把最小值限制为 10，低于 10 的数值用 10 替换\n",
    "# 限制最大值为 20，大于 20 的数值用 20 替换\n",
    "grand2 = grand2.clamp(10, 20)\n",
    "print(grand2)"
   ]
  }
 ],
 "metadata": {
  "kernelspec": {
   "display_name": "Python 3",
   "language": "python",
   "name": "python3"
  },
  "language_info": {
   "codemirror_mode": {
    "name": "ipython",
    "version": 3
   },
   "file_extension": ".py",
   "mimetype": "text/x-python",
   "name": "python",
   "nbconvert_exporter": "python",
   "pygments_lexer": "ipython3",
   "version": "3.9.18"
  }
 },
 "nbformat": 4,
 "nbformat_minor": 2
}
