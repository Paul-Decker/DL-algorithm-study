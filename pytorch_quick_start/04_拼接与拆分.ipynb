{
 "cells": [
  {
   "cell_type": "markdown",
   "metadata": {},
   "source": [
    "### torch.cat()：拼接多个 tensor"
   ]
  },
  {
   "cell_type": "code",
   "execution_count": 5,
   "metadata": {},
   "outputs": [
    {
     "name": "stdout",
     "output_type": "stream",
     "text": [
      "torch.Size([8, 2, 3])\n",
      "torch.Size([4, 4, 3])\n"
     ]
    }
   ],
   "source": [
    "import torch \n",
    "a = torch.randint(1, 10, [4, 2, 3])\n",
    "b = torch.randint(1, 10, [4, 2, 3])\n",
    "\n",
    "# 拼接 tensor\n",
    "# 第一个参数列表：包含所有需要进行拼接的 tensor\n",
    "# 第二个参数：表示需要在哪个维度上进行拼接\n",
    "c = torch.cat([a, b], dim=0)\n",
    "print(c.shape)\n",
    "\n",
    "# 注意，除了指定的拼接维度外，其他维度要保持一致，否则会报错\n",
    "d = torch.cat([a, b], dim=1)\n",
    "print(d.shape)\n"
   ]
  },
  {
   "cell_type": "markdown",
   "metadata": {},
   "source": [
    "### torch.stack()：堆叠 tensor"
   ]
  },
  {
   "cell_type": "code",
   "execution_count": 11,
   "metadata": {},
   "outputs": [
    {
     "name": "stdout",
     "output_type": "stream",
     "text": [
      "torch.Size([2, 4, 3, 3])\n",
      "torch.Size([4, 2, 3, 3])\n"
     ]
    }
   ],
   "source": [
    "import torch\n",
    "a = torch.randint(1, 10, [4, 3, 3])\n",
    "b = torch.randint(1, 10, [4, 3, 3])\n",
    "\n",
    "# 将两个 tensor 进行堆叠，会创建一个新维度\n",
    "c = torch.stack([a, b])\n",
    "print(c.shape)\n",
    "\n",
    "# 在指定维度上进行堆叠\n",
    "d = torch.stack([a, b], dim=1)\n",
    "print(d.shape)\n",
    "\n",
    "# 进行堆叠的 tensor 在维度上要完全一致（每个维度大小都要一样）"
   ]
  },
  {
   "cell_type": "markdown",
   "metadata": {},
   "source": [
    "### tensor.split：根据指定长度进行拆分"
   ]
  },
  {
   "cell_type": "code",
   "execution_count": 17,
   "metadata": {},
   "outputs": [
    {
     "name": "stdout",
     "output_type": "stream",
     "text": [
      "torch.Size([1, 32, 8])\n",
      "torch.Size([1, 32, 8])\n",
      "torch.Size([2, 32, 8])\n",
      "torch.Size([1, 32, 8])\n"
     ]
    }
   ],
   "source": [
    "import torch\n",
    "a = torch.randint(1, 10, [2, 32, 8])\n",
    "\n",
    "# 在位置 0 的维度上指定长度 1 进行拆分\n",
    "aa, bb = a.split(1, dim=0)\n",
    "print(aa.shape)\n",
    "print(bb.shape)\n",
    "\n",
    "# 在位置 0 的维度上，指定拆分为两个长度分别为 2 和 1 \n",
    "a = torch.randint(1, 10, [3, 32, 8])\n",
    "aa, bb = a.split([2, 1], dim=0)\n",
    "print(aa.shape)\n",
    "print(bb.shape)"
   ]
  },
  {
   "cell_type": "markdown",
   "metadata": {},
   "source": [
    "### tensor.chunk：根据数量进行拆分"
   ]
  },
  {
   "cell_type": "code",
   "execution_count": 20,
   "metadata": {},
   "outputs": [
    {
     "name": "stdout",
     "output_type": "stream",
     "text": [
      "torch.Size([1, 32, 8])\n",
      "torch.Size([1, 32, 8])\n",
      "torch.Size([2, 32, 2])\n",
      "torch.Size([2, 32, 2])\n"
     ]
    }
   ],
   "source": [
    "import torch\n",
    "\n",
    "# 在位置 0 的维度上， 拆分成2个矩阵\n",
    "a = torch.randint(1, 10, [2, 32, 8])\n",
    "aa, bb = a.chunk(2, dim=0)\n",
    "print(aa.shape)\n",
    "print(bb.shape)\n",
    "\n",
    "# 在位置 2 的维度上， 拆分成4个矩阵\n",
    "a = torch.randint(1, 10, [2, 32, 8])\n",
    "aa, bb, cc, dd = a.chunk(4, dim=2)\n",
    "print(aa.shape)\n",
    "print(bb.shape)"
   ]
  }
 ],
 "metadata": {
  "kernelspec": {
   "display_name": "Python 3",
   "language": "python",
   "name": "python3"
  },
  "language_info": {
   "codemirror_mode": {
    "name": "ipython",
    "version": 3
   },
   "file_extension": ".py",
   "mimetype": "text/x-python",
   "name": "python",
   "nbconvert_exporter": "python",
   "pygments_lexer": "ipython3",
   "version": "3.9.18"
  }
 },
 "nbformat": 4,
 "nbformat_minor": 2
}
