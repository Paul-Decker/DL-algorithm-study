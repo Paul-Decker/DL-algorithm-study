{
 "cells": [
  {
   "cell_type": "markdown",
   "metadata": {},
   "source": [
    "## operations"
   ]
  },
  {
   "cell_type": "markdown",
   "metadata": {},
   "source": [
    "### 加法操作"
   ]
  },
  {
   "cell_type": "code",
   "execution_count": 1,
   "metadata": {},
   "outputs": [
    {
     "name": "stdout",
     "output_type": "stream",
     "text": [
      "+运算符\n",
      "tensor([[1.9848, 2.1800, 3.7232],\n",
      "        [4.9318, 5.7457, 6.7742],\n",
      "        [7.0447, 8.2947, 9.0247]], dtype=torch.float64)\n",
      "torch.add(tensor1, tensor2, [out=tensor3])\n",
      "tensor([[1.9848, 2.1800, 3.7232],\n",
      "        [4.9318, 5.7457, 6.7742],\n",
      "        [7.0447, 8.2947, 9.0247]])\n",
      "tensor([[1.9848, 2.1800, 3.7232],\n",
      "        [4.9318, 5.7457, 6.7742],\n",
      "        [7.0447, 8.2947, 9.0247]])\n",
      "tensor1.add_(tensor2)\n",
      "tensor([[1.9848, 2.1800, 3.7232],\n",
      "        [4.9318, 5.7457, 6.7742],\n",
      "        [7.0447, 8.2947, 9.0247]], dtype=torch.float64)\n",
      "tensor([[1.9848, 2.1800, 3.7232],\n",
      "        [4.9318, 5.7457, 6.7742],\n",
      "        [7.0447, 8.2947, 9.0247]], dtype=torch.float64)\n"
     ]
    }
   ],
   "source": [
    "import torch \n",
    "tensor6 = torch.tensor([[1, 2, 3], [4, 5, 6], [7, 8, 9]], dtype=float)\n",
    "tensor7 = torch.rand(3, 3)\n",
    "\n",
    "print('+运算符')\n",
    "print(tensor6 + tensor7)\n",
    "print('torch.add(tensor1, tensor2, [out=tensor3])')\n",
    "# 声明一个 3×3 的未初始化的矩阵，用于保存加法操作结果\n",
    "tensor8 = torch.empty(3, 3)\n",
    "print(torch.add(tensor6, tensor7, out=tensor8))\n",
    "print(tensor8)\n",
    "# 直接修改变量\n",
    "print('tensor1.add_(tensor2)')\n",
    "print(tensor6.add_(tensor7))\n",
    "print(tensor6)"
   ]
  },
  {
   "cell_type": "markdown",
   "metadata": {},
   "source": [
    "### 索引、切片"
   ]
  },
  {
   "cell_type": "code",
   "execution_count": 2,
   "metadata": {},
   "outputs": [
    {
     "name": "stdout",
     "output_type": "stream",
     "text": [
      "tensor([[0.8344, 0.7298, 0.1510, 0.9846],\n",
      "        [0.6693, 0.1510, 0.6123, 0.7776],\n",
      "        [0.0400, 0.9036, 0.6243, 0.6570],\n",
      "        [0.9421, 0.5009, 0.6743, 0.3254],\n",
      "        [0.1927, 0.9144, 0.7907, 0.9714]])\n",
      "tensor([0.8344, 0.6693, 0.0400, 0.9421, 0.1927])\n",
      "tensor([[0.6693, 0.1510, 0.6123, 0.7776],\n",
      "        [0.0400, 0.9036, 0.6243, 0.6570],\n",
      "        [0.9421, 0.5009, 0.6743, 0.3254]])\n"
     ]
    }
   ],
   "source": [
    "import torch\n",
    "tensor9 = torch.rand(5, 4)\n",
    "print(tensor9)\n",
    "# 访问 tensor9 第一列数据\n",
    "print(tensor9[:, 0])\n",
    "# 访问 tensor9 第2-4行数据\n",
    "print(tensor9[1:4, :])"
   ]
  },
  {
   "cell_type": "markdown",
   "metadata": {},
   "source": [
    "### tensor.size()：获取 tensor 的尺寸"
   ]
  },
  {
   "cell_type": "code",
   "execution_count": 14,
   "metadata": {},
   "outputs": [
    {
     "name": "stdout",
     "output_type": "stream",
     "text": [
      "torch.Size([3, 3])\n",
      "torch.Size([3, 3])\n"
     ]
    }
   ],
   "source": [
    "import torch\n",
    "tensor5 = torch.tensor([[1, 2, 3], [4, 5, 6], [7, 8, 9]])\n",
    "print(tensor5.size()) \n",
    "print(tensor5.shape)"
   ]
  },
  {
   "cell_type": "markdown",
   "metadata": {},
   "source": [
    "### tensor.view()：修改 tensor 尺寸"
   ]
  },
  {
   "cell_type": "code",
   "execution_count": null,
   "metadata": {},
   "outputs": [
    {
     "name": "stdout",
     "output_type": "stream",
     "text": [
      "torch.Size([4, 4]) torch.Size([16]) torch.Size([2, 8])\n"
     ]
    }
   ],
   "source": [
    "x = torch.randn(4, 4)\n",
    "y = x.view(16)\n",
    "# -1 表示除给定维度外的其余维度的乘积\n",
    "z = x.view(-1, 8)\n",
    "print(x.size(), y.size(), z.size())"
   ]
  },
  {
   "cell_type": "markdown",
   "metadata": {},
   "source": [
    "### tensor.item()：获取数值"
   ]
  },
  {
   "cell_type": "code",
   "execution_count": null,
   "metadata": {},
   "outputs": [
    {
     "name": "stdout",
     "output_type": "stream",
     "text": [
      "tensor([0.7281])\n",
      "0.728061854839325\n"
     ]
    }
   ],
   "source": [
    "import torch\n",
    "x = torch.randn(1)\n",
    "print(x)\n",
    "print(x.item())"
   ]
  },
  {
   "cell_type": "markdown",
   "metadata": {},
   "source": [
    "### tensor.type()：获取 tensor 的类型"
   ]
  },
  {
   "cell_type": "code",
   "execution_count": 13,
   "metadata": {},
   "outputs": [
    {
     "name": "stdout",
     "output_type": "stream",
     "text": [
      "tensor(3.1000)\n",
      "torch.FloatTensor\n",
      "<class 'torch.Tensor'>\n",
      "0\n",
      "tensor([3.1000])\n",
      "1\n"
     ]
    }
   ],
   "source": [
    "import torch\n",
    "x = torch.tensor(3.1)\n",
    "print(x)\n",
    "print(x.type())\n",
    "print(type(x))\n",
    "print(x.dim())\n",
    "\n",
    "y = torch.tensor([3.1])\n",
    "print(y)\n",
    "print(y.dim())\n"
   ]
  },
  {
   "cell_type": "markdown",
   "metadata": {},
   "source": [
    "### isinstance(a, b)：检查 a 是否为 类型 b"
   ]
  },
  {
   "cell_type": "code",
   "execution_count": 11,
   "metadata": {},
   "outputs": [
    {
     "name": "stdout",
     "output_type": "stream",
     "text": [
      "True\n",
      "False\n",
      "False\n",
      "True\n"
     ]
    }
   ],
   "source": [
    "print(isinstance(x, torch.FloatTensor))\n",
    "print(isinstance(x, torch.IntTensor))\n",
    "\n",
    "print(isinstance(x, torch.cuda.FloatTensor))\n",
    "# tensor.cuda()：返回一个GPU上的引用\n",
    "x = x.cuda()\n",
    "print(isinstance(x, torch.cuda.FloatTensor))"
   ]
  }
 ],
 "metadata": {
  "kernelspec": {
   "display_name": "Python 3",
   "language": "python",
   "name": "python3"
  },
  "language_info": {
   "codemirror_mode": {
    "name": "ipython",
    "version": 3
   },
   "file_extension": ".py",
   "mimetype": "text/x-python",
   "name": "python",
   "nbconvert_exporter": "python",
   "pygments_lexer": "ipython3",
   "version": "3.9.18"
  }
 },
 "nbformat": 4,
 "nbformat_minor": 2
}
