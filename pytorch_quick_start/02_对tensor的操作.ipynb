{
 "cells": [
  {
   "cell_type": "markdown",
   "metadata": {},
   "source": [
    "## operations"
   ]
  },
  {
   "cell_type": "markdown",
   "metadata": {},
   "source": [
    "### tensor.item()：获取数值"
   ]
  },
  {
   "cell_type": "code",
   "execution_count": null,
   "metadata": {},
   "outputs": [
    {
     "name": "stdout",
     "output_type": "stream",
     "text": [
      "tensor([1.3251])\n",
      "1.3250837326049805\n"
     ]
    }
   ],
   "source": [
    "import torch\n",
    "x = torch.randn(1)\n",
    "print(x)\n",
    "print(x.item())"
   ]
  },
  {
   "cell_type": "markdown",
   "metadata": {},
   "source": [
    "### isinstance(a, b)：检查 a 是否为 类型 b"
   ]
  },
  {
   "cell_type": "code",
   "execution_count": null,
   "metadata": {},
   "outputs": [
    {
     "name": "stdout",
     "output_type": "stream",
     "text": [
      "True\n",
      "False\n",
      "False\n",
      "True\n"
     ]
    }
   ],
   "source": [
    "print(isinstance(x, torch.FloatTensor))\n",
    "print(isinstance(x, torch.IntTensor))\n",
    "\n",
    "print(isinstance(x, torch.cuda.FloatTensor))\n",
    "# tensor.cuda()：返回一个GPU上的引用\n",
    "x = x.cuda()\n",
    "print(isinstance(x, torch.cuda.FloatTensor))"
   ]
  },
  {
   "cell_type": "markdown",
   "metadata": {},
   "source": [
    "### tensor.type()：获取 tensor 的类型"
   ]
  },
  {
   "cell_type": "code",
   "execution_count": null,
   "metadata": {},
   "outputs": [
    {
     "name": "stdout",
     "output_type": "stream",
     "text": [
      "tensor(3.1000)\n",
      "torch.FloatTensor\n",
      "<class 'torch.Tensor'>\n",
      "0\n",
      "tensor([3.1000])\n",
      "1\n"
     ]
    }
   ],
   "source": [
    "import torch\n",
    "x = torch.tensor(3.1)\n",
    "print(x)\n",
    "print(x.type())\n",
    "print(type(x))\n",
    "print(x.dim())\n",
    "\n",
    "y = torch.tensor([3.1])\n",
    "print(y)\n",
    "print(y.dim())\n"
   ]
  },
  {
   "cell_type": "markdown",
   "metadata": {},
   "source": [
    "### 加法操作"
   ]
  },
  {
   "cell_type": "code",
   "execution_count": 1,
   "metadata": {},
   "outputs": [
    {
     "name": "stdout",
     "output_type": "stream",
     "text": [
      "+运算符\n",
      "tensor([[1.9848, 2.1800, 3.7232],\n",
      "        [4.9318, 5.7457, 6.7742],\n",
      "        [7.0447, 8.2947, 9.0247]], dtype=torch.float64)\n",
      "torch.add(tensor1, tensor2, [out=tensor3])\n",
      "tensor([[1.9848, 2.1800, 3.7232],\n",
      "        [4.9318, 5.7457, 6.7742],\n",
      "        [7.0447, 8.2947, 9.0247]])\n",
      "tensor([[1.9848, 2.1800, 3.7232],\n",
      "        [4.9318, 5.7457, 6.7742],\n",
      "        [7.0447, 8.2947, 9.0247]])\n",
      "tensor1.add_(tensor2)\n",
      "tensor([[1.9848, 2.1800, 3.7232],\n",
      "        [4.9318, 5.7457, 6.7742],\n",
      "        [7.0447, 8.2947, 9.0247]], dtype=torch.float64)\n",
      "tensor([[1.9848, 2.1800, 3.7232],\n",
      "        [4.9318, 5.7457, 6.7742],\n",
      "        [7.0447, 8.2947, 9.0247]], dtype=torch.float64)\n"
     ]
    }
   ],
   "source": [
    "import torch \n",
    "tensor6 = torch.tensor([[1, 2, 3], [4, 5, 6], [7, 8, 9]], dtype=float)\n",
    "tensor7 = torch.rand(3, 3)\n",
    "\n",
    "print('+运算符')\n",
    "print(tensor6 + tensor7)\n",
    "print('torch.add(tensor1, tensor2, [out=tensor3])')\n",
    "# 声明一个 3×3 的未初始化的矩阵，用于保存加法操作结果\n",
    "tensor8 = torch.empty(3, 3)\n",
    "print(torch.add(tensor6, tensor7, out=tensor8))\n",
    "print(tensor8)\n",
    "# 直接修改变量\n",
    "print('tensor1.add_(tensor2)')\n",
    "print(tensor6.add_(tensor7))\n",
    "print(tensor6)"
   ]
  },
  {
   "cell_type": "markdown",
   "metadata": {},
   "source": [
    "### 索引、切片"
   ]
  },
  {
   "cell_type": "code",
   "execution_count": 3,
   "metadata": {},
   "outputs": [
    {
     "name": "stdout",
     "output_type": "stream",
     "text": [
      "torch.Size([3, 28, 28])\n",
      "torch.Size([28, 28])\n",
      "tensor(0.0072)\n"
     ]
    }
   ],
   "source": [
    "import torch\n",
    "a = torch.rand(4, 3, 28, 28)\n",
    "print(a[0].shape)\n",
    "print(a[0, 0].shape)\n",
    "print(a[0, 0, 2, 4])"
   ]
  },
  {
   "cell_type": "code",
   "execution_count": 2,
   "metadata": {},
   "outputs": [
    {
     "name": "stdout",
     "output_type": "stream",
     "text": [
      "tensor([[0.0123, 0.4111, 0.2937, 0.6465],\n",
      "        [0.2768, 0.0355, 0.8906, 0.8671],\n",
      "        [0.0767, 0.7646, 0.1118, 0.6093],\n",
      "        [0.5245, 0.7564, 0.6740, 0.9658],\n",
      "        [0.7562, 0.4768, 0.7117, 0.6085]])\n",
      "tensor([0.0123, 0.2768, 0.0767, 0.5245, 0.7562])\n",
      "tensor([[0.2768, 0.0355, 0.8906, 0.8671],\n",
      "        [0.0767, 0.7646, 0.1118, 0.6093],\n",
      "        [0.5245, 0.7564, 0.6740, 0.9658]])\n"
     ]
    }
   ],
   "source": [
    "import torch\n",
    "tensor9 = torch.rand(5, 4)\n",
    "print(tensor9)\n",
    "# 访问 tensor9 第一列数据\n",
    "print(tensor9[:, 0])\n",
    "# 访问 tensor9 第2-4行数据\n",
    "print(tensor9[1:4, :])"
   ]
  },
  {
   "cell_type": "markdown",
   "metadata": {},
   "source": [
    "### tensor.size()：获取 tensor 的尺寸"
   ]
  },
  {
   "cell_type": "code",
   "execution_count": 14,
   "metadata": {},
   "outputs": [
    {
     "name": "stdout",
     "output_type": "stream",
     "text": [
      "torch.Size([3, 3])\n",
      "torch.Size([3, 3])\n"
     ]
    }
   ],
   "source": [
    "import torch\n",
    "tensor5 = torch.tensor([[1, 2, 3], [4, 5, 6], [7, 8, 9]])\n",
    "print(tensor5.size()) \n",
    "print(tensor5.shape)"
   ]
  },
  {
   "cell_type": "markdown",
   "metadata": {},
   "source": [
    "### tensor.view()、tensor.reshape()：修改 tensor 尺寸"
   ]
  },
  {
   "cell_type": "code",
   "execution_count": 4,
   "metadata": {},
   "outputs": [
    {
     "name": "stdout",
     "output_type": "stream",
     "text": [
      "torch.Size([4, 4]) torch.Size([16]) torch.Size([2, 8])\n",
      "torch.Size([4, 4]) torch.Size([16]) torch.Size([2, 8])\n"
     ]
    }
   ],
   "source": [
    "x = torch.randn(4, 4)\n",
    "y = x.view(16)\n",
    "# -1 表示除给定维度外的其余维度的乘积\n",
    "z = x.view(-1, 8)\n",
    "print(x.size(), y.size(), z.size())\n",
    "\n",
    "y2 = x.reshape(16)\n",
    "z2 = x.reshape(-1, 8)\n",
    "print(x.size(), y2.size(), z2.size())"
   ]
  },
  {
   "cell_type": "markdown",
   "metadata": {},
   "source": [
    "### tensor.unsqueeze()、tensor.squeeze()：为 tensor 插入/删除维度"
   ]
  },
  {
   "cell_type": "code",
   "execution_count": 8,
   "metadata": {},
   "outputs": [
    {
     "name": "stdout",
     "output_type": "stream",
     "text": [
      "torch.Size([4, 1, 28, 28])\n",
      "torch.Size([1, 4, 1, 28, 28])\n",
      "torch.Size([4, 1, 28, 28, 1])\n"
     ]
    }
   ],
   "source": [
    "import torch\n",
    "a = torch.rand(4, 1, 28, 28)\n",
    "print(a.shape)\n",
    "\n",
    "# 在第 0 个维度前面插入一个维度\n",
    "b = a.unsqueeze(0)\n",
    "print(b.shape)\n",
    "\n",
    "# 在倒数第 1 个维度后面插入一个维度\n",
    "c = a.unsqueeze(-1)\n",
    "print(c.shape)"
   ]
  },
  {
   "cell_type": "code",
   "execution_count": 25,
   "metadata": {},
   "outputs": [
    {
     "name": "stdout",
     "output_type": "stream",
     "text": [
      "torch.Size([1, 32, 1, 2, 1, 1])\n",
      "torch.Size([1, 32, 2, 1, 1])\n",
      "torch.Size([32, 1, 2, 1, 1])\n",
      "torch.Size([32, 2])\n",
      "torch.Size([1, 32, 1, 2, 1, 1])\n",
      "torch.Size([1, 32, 1, 2, 1, 1])\n"
     ]
    }
   ],
   "source": [
    "import torch\n",
    "a = torch.rand(1, 32, 1, 2, 1, 1)\n",
    "print(a.shape)\n",
    "\n",
    "# 删减索引为2的维度\n",
    "b = a.squeeze(2)\n",
    "print(b.shape)\n",
    "\n",
    "# 删减索引为-6的维度\n",
    "c = a.squeeze(-6)\n",
    "print(c.shape)\n",
    "\n",
    "# 删减所有维度为1的维度\n",
    "d = a.squeeze()\n",
    "print(d.shape)\n",
    "\n",
    "# 注意：不是1维的维度是不能被删除的\n",
    "print(a.squeeze(1).shape)\n",
    "print(a.squeeze(-3).shape)"
   ]
  },
  {
   "cell_type": "markdown",
   "metadata": {},
   "source": [
    "### tensor.expand()、tensor.repeat()：维度扩展"
   ]
  },
  {
   "cell_type": "code",
   "execution_count": 29,
   "metadata": {},
   "outputs": [
    {
     "name": "stdout",
     "output_type": "stream",
     "text": [
      "torch.Size([1, 32, 1, 1])\n",
      "torch.Size([2, 32, 3, 3])\n",
      "torch.Size([1, 32, 10, 10])\n"
     ]
    }
   ],
   "source": [
    "import torch\n",
    "a = torch.rand(1, 32, 1, 1)\n",
    "print(a.shape)\n",
    "\n",
    "b = a.expand(2, 32, 3, 3)\n",
    "print(b.shape)\n",
    "\n",
    "# 不进行扩展（或不能扩展）的维度可用-1代替\n",
    "c = a.expand(-1, -1, 10, 10)\n",
    "print(c.shape)"
   ]
  },
  {
   "cell_type": "code",
   "execution_count": 34,
   "metadata": {},
   "outputs": [
    {
     "name": "stdout",
     "output_type": "stream",
     "text": [
      "torch.Size([1, 32, 1, 1])\n",
      "torch.Size([2, 64, 3, 3])\n",
      "torch.Size([2, 32, 3, 3])\n"
     ]
    }
   ],
   "source": [
    "import torch\n",
    "a = torch.rand(1, 32, 1, 1)\n",
    "print(a.shape)\n",
    "\n",
    "b = a.repeat(2, 2, 3, 3)\n",
    "print(b.shape)\n",
    "\n",
    "# 不需要进行重复的维度用1\n",
    "c = a.repeat(2, 1, 3, 3)\n",
    "print(c.shape)"
   ]
  },
  {
   "cell_type": "markdown",
   "metadata": {},
   "source": [
    "### tensor.t()：二维矩阵转置操作"
   ]
  },
  {
   "cell_type": "markdown",
   "metadata": {},
   "source": [
    "转置操作只能用于二维矩阵，否则会报错"
   ]
  },
  {
   "cell_type": "code",
   "execution_count": 7,
   "metadata": {},
   "outputs": [
    {
     "name": "stdout",
     "output_type": "stream",
     "text": [
      "tensor([[3, 2, 1, 9],\n",
      "        [8, 4, 6, 4],\n",
      "        [1, 3, 6, 9],\n",
      "        [3, 4, 8, 2]])\n",
      "tensor([[3, 8, 1, 3],\n",
      "        [2, 4, 3, 4],\n",
      "        [1, 6, 6, 8],\n",
      "        [9, 4, 9, 2]])\n"
     ]
    }
   ],
   "source": [
    "import torch \n",
    "a = torch.randint(1, 10, [4, 4])\n",
    "print(a)\n",
    "print(a.t())"
   ]
  },
  {
   "cell_type": "markdown",
   "metadata": {},
   "source": [
    "### tensor.transpose()：维度交换操作"
   ]
  },
  {
   "cell_type": "code",
   "execution_count": 9,
   "metadata": {},
   "outputs": [
    {
     "name": "stdout",
     "output_type": "stream",
     "text": [
      "torch.Size([3, 4, 32])\n",
      "torch.Size([32, 4, 3])\n"
     ]
    }
   ],
   "source": [
    "import torch \n",
    "a = torch.randint(1, 10, [3, 4, 32])\n",
    "print(a.shape)\n",
    "# 交换索引维0和索引为2的两个维度\n",
    "b = a.transpose(0, 2)\n",
    "print(b.shape)"
   ]
  },
  {
   "cell_type": "markdown",
   "metadata": {},
   "source": [
    "### tensor.permute()：将tensor的维度换位"
   ]
  },
  {
   "cell_type": "code",
   "execution_count": 12,
   "metadata": {},
   "outputs": [
    {
     "name": "stdout",
     "output_type": "stream",
     "text": [
      "torch.Size([3, 4, 32, 24])\n",
      "torch.Size([3, 24, 4, 32])\n"
     ]
    }
   ],
   "source": [
    "import torch \n",
    "a = torch.randint(1, 10, [3, 4, 32, 24])\n",
    "# a 的第 0 个位置的维度为 3\n",
    "#   第 1 个位置维度为 4\n",
    "#   第 2 个位置维度为 32\n",
    "#   第 3 个位置维度为32\n",
    "print(a.shape)\n",
    "\n",
    "# 将原本维度的位置，按 0, 3, 1, 2 的顺序重排放\n",
    "b = a.permute(0, 3, 1, 2)\n",
    "print(b.shape)"
   ]
  }
 ],
 "metadata": {
  "kernelspec": {
   "display_name": "Python 3",
   "language": "python",
   "name": "python3"
  },
  "language_info": {
   "codemirror_mode": {
    "name": "ipython",
    "version": 3
   },
   "file_extension": ".py",
   "mimetype": "text/x-python",
   "name": "python",
   "nbconvert_exporter": "python",
   "pygments_lexer": "ipython3",
   "version": "3.9.18"
  }
 },
 "nbformat": 4,
 "nbformat_minor": 2
}
