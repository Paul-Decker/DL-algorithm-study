{
 "cells": [
  {
   "cell_type": "markdown",
   "metadata": {},
   "source": [
    "## 卷积层"
   ]
  },
  {
   "cell_type": "markdown",
   "metadata": {},
   "source": [
    "### nn.Conv2d"
   ]
  },
  {
   "cell_type": "code",
   "execution_count": 4,
   "metadata": {},
   "outputs": [
    {
     "name": "stdout",
     "output_type": "stream",
     "text": [
      "torch.Size([1, 3, 26, 26])\n"
     ]
    }
   ],
   "source": [
    "import torch.nn as nn\n",
    "\n",
    "# 第1个参数，是输入数据的channel（例如，黑白照片的channel为1、RGB图片的channel为3）\n",
    "# 第2个参数，指的是该卷积层的卷积核（kernel/filtter）个数，也可以说是输出数据的channel\n",
    "# kernel_size=3，表示卷积核的尺寸为 3×3，滑动窗口的尺寸也是 3×3\n",
    "# stride=1，表示滑动窗口的步长为 1\n",
    "# padding=0，表示不做边缘填充，padding=1，表示对输入输入进行1层边缘填充\n",
    "layer = nn.Conv2d(1, 3, kernel_size=3, stride=1, padding=0)\n",
    "x = torch.rand(1, 1, 28, 28)  # 图片数量、图片的channel、图片的尺寸为 28×28\n",
    "\n",
    "# 完成一次卷积前向运算，得到输入数据 x 经过卷积层 layer 后运算结果（feature map）\n",
    "out = layer.forward(x)\n",
    "print(out.shape)"
   ]
  },
  {
   "cell_type": "code",
   "execution_count": 5,
   "metadata": {},
   "outputs": [
    {
     "name": "stdout",
     "output_type": "stream",
     "text": [
      "torch.Size([1, 3, 28, 28])\n"
     ]
    }
   ],
   "source": [
    "# padding=1，表示对输入输入进行1层边缘填充\n",
    "layer = nn.Conv2d(1, 3, kernel_size=3, stride=1, padding=1)\n",
    "out = layer.forward(x)\n",
    "print(out.shape)"
   ]
  },
  {
   "cell_type": "code",
   "execution_count": 6,
   "metadata": {},
   "outputs": [
    {
     "name": "stdout",
     "output_type": "stream",
     "text": [
      "torch.Size([1, 3, 14, 14])\n"
     ]
    }
   ],
   "source": [
    "# stride（步长）= 2 的情况\n",
    "layer = nn.Conv2d(1, 3, kernel_size=3, stride=2, padding=1)\n",
    "out = layer.forward(x)\n",
    "print(out.shape)"
   ]
  },
  {
   "cell_type": "code",
   "execution_count": 9,
   "metadata": {},
   "outputs": [
    {
     "name": "stdout",
     "output_type": "stream",
     "text": [
      "Parameter containing:\n",
      "tensor([[[[-0.1176, -0.0766, -0.3011],\n",
      "          [ 0.0761,  0.0615, -0.0490],\n",
      "          [-0.2574,  0.1532,  0.0693]]],\n",
      "\n",
      "\n",
      "        [[[ 0.2724,  0.0961,  0.2341],\n",
      "          [-0.2312,  0.0681, -0.3095],\n",
      "          [ 0.2996, -0.2636, -0.1742]]],\n",
      "\n",
      "\n",
      "        [[[-0.2146,  0.2755, -0.0272],\n",
      "          [-0.2504,  0.1560, -0.2121],\n",
      "          [ 0.2797,  0.1427, -0.0987]]]], requires_grad=True)\n",
      "torch.Size([3, 1, 3, 3])\n",
      "Parameter containing:\n",
      "tensor([-0.2853,  0.1765,  0.0082], requires_grad=True)\n",
      "torch.Size([3])\n"
     ]
    }
   ],
   "source": [
    "# 该卷积层的权重参数 weight\n",
    "print(layer.weight)\n",
    "print(layer.weight.shape)\n",
    "# 该卷积层的偏置参数 bias\n",
    "print(layer.bias)\n",
    "print(layer.bias.shape)"
   ]
  },
  {
   "cell_type": "markdown",
   "metadata": {},
   "source": [
    "### F.conv2d"
   ]
  },
  {
   "cell_type": "code",
   "execution_count": 13,
   "metadata": {},
   "outputs": [
    {
     "name": "stdout",
     "output_type": "stream",
     "text": [
      "torch.Size([3, 16, 26, 26])\n",
      "torch.Size([3, 16, 28, 28])\n"
     ]
    }
   ],
   "source": [
    "import torch\n",
    "from torch.nn import functional as F \n",
    "\n",
    "# 1张图片，RGB 3 个channel，图片尺寸为 28×28\n",
    "x = torch.rand(1, 3, 28, 28)\n",
    "# 该卷积层有16个卷积核，输入数据的channel为3，卷积核尺寸为5×5\n",
    "w = torch.rand(16, 3, 5, 5)\n",
    "b = torch.rand(16)\n",
    "\n",
    "out = F.conv2d(x, w, b, stride=1, padding=1)\n",
    "print(out.shape)\n",
    "\n",
    "out = F.conv2d(x, w, b, stride=1, padding=2)\n",
    "print(out.shape)\n"
   ]
  },
  {
   "cell_type": "markdown",
   "metadata": {},
   "source": [
    "## 池化操作"
   ]
  },
  {
   "cell_type": "code",
   "execution_count": 18,
   "metadata": {},
   "outputs": [
    {
     "name": "stdout",
     "output_type": "stream",
     "text": [
      "torch.Size([1, 16, 7, 7])\n"
     ]
    }
   ],
   "source": [
    "import torch \n",
    "from torch import nn\n",
    "\n",
    "x = torch.rand(1, 16, 14, 14)\n",
    "# 池化层（最大池化）\n",
    "layer = nn.MaxPool2d(2, stride=2)\n",
    "# 进行池化操作\n",
    "out = layer(x)\n",
    "print(out.shape)"
   ]
  },
  {
   "cell_type": "code",
   "execution_count": 20,
   "metadata": {},
   "outputs": [
    {
     "name": "stdout",
     "output_type": "stream",
     "text": [
      "torch.Size([1, 16, 7, 7])\n"
     ]
    }
   ],
   "source": [
    "from torch.nn import functional as F\n",
    "\n",
    "# 平均池化操作\n",
    "out = F.avg_pool2d(x, 2, stride=2)\n",
    "print(out.shape)"
   ]
  },
  {
   "cell_type": "markdown",
   "metadata": {},
   "source": [
    "## 上采样"
   ]
  },
  {
   "cell_type": "code",
   "execution_count": 22,
   "metadata": {},
   "outputs": [
    {
     "name": "stdout",
     "output_type": "stream",
     "text": [
      "torch.Size([1, 16, 14, 14])\n",
      "torch.Size([1, 16, 21, 21])\n"
     ]
    }
   ],
   "source": [
    "import torch \n",
    "from torch.nn import functional as F\n",
    "\n",
    "x = torch.rand(1, 16, 7, 7)\n",
    "# scale_factor=2 表示放大倍数为2倍\n",
    "out = F.interpolate(x, scale_factor=2, mode='nearest')\n",
    "print(out.shape)\n",
    "\n",
    "# scale_factor=3 表示放大倍数为3倍\n",
    "out = F.interpolate(x, scale_factor=3, mode='nearest')\n",
    "print(out.shape)"
   ]
  },
  {
   "cell_type": "markdown",
   "metadata": {},
   "source": [
    "## nn.Module"
   ]
  },
  {
   "cell_type": "code",
   "execution_count": null,
   "metadata": {},
   "outputs": [],
   "source": [
    "import torch \n",
    "from torch import nn\n",
    "\n",
    "class MyLinear(nn.Module):\n",
    "\n",
    "    def __init__(self, input, output):\n",
    "        super(MyLinear, self).__init__()\n",
    "        self.w = nn.Parameter(torch.randn(input, output))\n",
    "        self.b = nn.Parameter(torch.randn(output))\n",
    "    \n",
    "    def forward(self, x):\n",
    "        x = x @ self.w.t() + self.b\n",
    "        return x"
   ]
  }
 ],
 "metadata": {
  "kernelspec": {
   "display_name": "Python 3",
   "language": "python",
   "name": "python3"
  },
  "language_info": {
   "codemirror_mode": {
    "name": "ipython",
    "version": 3
   },
   "file_extension": ".py",
   "mimetype": "text/x-python",
   "name": "python",
   "nbconvert_exporter": "python",
   "pygments_lexer": "ipython3",
   "version": "3.9.18"
  }
 },
 "nbformat": 4,
 "nbformat_minor": 2
}
