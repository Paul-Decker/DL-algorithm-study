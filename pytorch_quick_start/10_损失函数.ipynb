{
 "cells": [
  {
   "cell_type": "markdown",
   "metadata": {},
   "source": [
    "### Mean Squared Error (MSE, 均方差)"
   ]
  },
  {
   "cell_type": "markdown",
   "metadata": {},
   "source": [
    "$loss = \\sum \\left ( y-\\hat{y}  \\right ) ^2=\\sum \\left [ y-f\\left ( x;w,b \\right )  \\right ]  ^2$"
   ]
  },
  {
   "cell_type": "markdown",
   "metadata": {},
   "source": [
    "<img src=\"./assets/mse.png\" alt=\"MSE\" width=600 height=300/>"
   ]
  },
  {
   "cell_type": "code",
   "execution_count": 2,
   "metadata": {},
   "outputs": [
    {
     "name": "stdout",
     "output_type": "stream",
     "text": [
      "tensor([[ 1.3805, -0.4574]])\n",
      "tensor([[ 1.3805, -0.4574]])\n",
      "tensor(1.1344)\n"
     ]
    }
   ],
   "source": [
    "import torch \n",
    "from torch.nn import functional as F\n",
    "x = torch.ones(1, 2)\n",
    "w = torch.randn(1, 2)\n",
    "print(w)\n",
    "print(x*w)\n",
    "\n",
    "# mse：均方差\n",
    "# F.mse_loss(x*w, torch.ones(1)) 第一个参数是预测值（得分函数），第二个参数是 label（反过来其实也一样，因为要进行平方）\n",
    "# 损失函数 loss = sum[(x*w-y)^2]\n",
    "mse = F.mse_loss(x*w, torch.ones(1, 2))\n",
    "print(mse)"
   ]
  },
  {
   "cell_type": "markdown",
   "metadata": {},
   "source": [
    "### Cross Entropy Loss"
   ]
  },
  {
   "cell_type": "markdown",
   "metadata": {},
   "source": [
    "用于分类（二分类、多分类都可以）<br/>搭配 softmax 激活函数"
   ]
  },
  {
   "cell_type": "code",
   "execution_count": 2,
   "metadata": {},
   "outputs": [
    {
     "name": "stdout",
     "output_type": "stream",
     "text": [
      "torch.Size([1, 10])\n",
      "tensor(34.9963)\n",
      "tensor(34.9963)\n"
     ]
    }
   ],
   "source": [
    "import torch \n",
    "from torch.nn import functional as F\n",
    "x = torch.randn(1, 784)\n",
    "w = torch.randn(10, 784)\n",
    "\n",
    "logits = x@w.t()\n",
    "print(logits.shape)\n",
    "\n",
    "pred = F.softmax(logits, dim=1)\n",
    "\n",
    "pred_log = torch.log(pred)\n",
    "\n",
    "# cross_entropy(logits) = nll_loss(log(softmax(logits)))\n",
    "# cross_entropy操作 = softmax + log + nll_loss\n",
    "print(F.cross_entropy(logits, torch.tensor([3])))\n",
    "\n",
    "\n",
    "print(F.nll_loss(pred_log, torch.tensor([3])))"
   ]
  }
 ],
 "metadata": {
  "kernelspec": {
   "display_name": "Python 3",
   "language": "python",
   "name": "python3"
  },
  "language_info": {
   "codemirror_mode": {
    "name": "ipython",
    "version": 3
   },
   "file_extension": ".py",
   "mimetype": "text/x-python",
   "name": "python",
   "nbconvert_exporter": "python",
   "pygments_lexer": "ipython3",
   "version": "3.9.18"
  }
 },
 "nbformat": 4,
 "nbformat_minor": 2
}
