{
 "cells": [
  {
   "cell_type": "markdown",
   "metadata": {},
   "source": [
    "### torch.where()"
   ]
  },
  {
   "cell_type": "markdown",
   "metadata": {},
   "source": [
    "torch.where(condition, x, y) -> Tensor\n",
    "\n",
    "Return a  tensor of elements selected from either x or y, depending on condition."
   ]
  },
  {
   "cell_type": "code",
   "execution_count": 18,
   "metadata": {},
   "outputs": [
    {
     "name": "stdout",
     "output_type": "stream",
     "text": [
      "tensor([[ 1.2192,  1.2888],\n",
      "        [ 0.3824, -0.0944]])\n",
      "tensor([[0., 0.],\n",
      "        [0., 0.]])\n",
      "tensor([[1., 1.],\n",
      "        [1., 1.]])\n",
      "tensor([[0., 0.],\n",
      "        [1., 1.]])\n"
     ]
    }
   ],
   "source": [
    "import torch\n",
    "cond = torch.randn(2, 2)\n",
    "print(cond)\n",
    "\n",
    "a = torch.zeros(2, 2)\n",
    "b = torch.ones(2, 2)\n",
    "print(a)\n",
    "print(b)\n",
    "\n",
    "# 矩阵 c 由矩阵 a 和矩阵 b 的部分元素组成\n",
    "# 当 cond[i, j] > 0.5 时，c[i, j] = a[i, j]，否则 c[i, j] = b[i, j]\n",
    "c = torch.where(cond>0.5, a, b)\n",
    "print(c)"
   ]
  },
  {
   "cell_type": "markdown",
   "metadata": {},
   "source": [
    "### torch.gather()"
   ]
  },
  {
   "cell_type": "markdown",
   "metadata": {},
   "source": [
    "torch.gather(input, dim, index, out=None) -> Tensor\n",
    "\n",
    "Gathers values along an axis specified by dim"
   ]
  },
  {
   "cell_type": "code",
   "execution_count": 21,
   "metadata": {},
   "outputs": [
    {
     "name": "stdout",
     "output_type": "stream",
     "text": [
      "torch.return_types.topk(\n",
      "values=tensor([[2.3710, 1.9753, 0.2838],\n",
      "        [1.4316, 0.8431, 0.6633],\n",
      "        [1.8113, 1.3453, 1.0668],\n",
      "        [2.3601, 1.3609, 0.7615]]),\n",
      "indices=tensor([[1, 8, 2],\n",
      "        [7, 9, 2],\n",
      "        [8, 0, 1],\n",
      "        [2, 5, 7]]))\n",
      "tensor([[1, 8, 2],\n",
      "        [7, 9, 2],\n",
      "        [8, 0, 1],\n",
      "        [2, 5, 7]])\n",
      "tensor([100, 101, 102, 103, 104, 105, 106, 107, 108, 109])\n",
      "tensor([[100, 101, 102, 103, 104, 105, 106, 107, 108, 109],\n",
      "        [100, 101, 102, 103, 104, 105, 106, 107, 108, 109],\n",
      "        [100, 101, 102, 103, 104, 105, 106, 107, 108, 109],\n",
      "        [100, 101, 102, 103, 104, 105, 106, 107, 108, 109]])\n",
      "tensor([[101, 108, 102],\n",
      "        [107, 109, 102],\n",
      "        [108, 100, 101],\n",
      "        [102, 105, 107]])\n"
     ]
    }
   ],
   "source": [
    "import torch \n",
    "prob = torch.randn(4, 10)\n",
    "index = prob.topk(dim=1, k=3)\n",
    "print(index)\n",
    "index = index[1]\n",
    "print(index)\n",
    "\n",
    "label = torch.arange(10) + 100\n",
    "print(label)\n",
    "print(label.expand(4, 10))\n",
    "\n",
    "out = torch.gather(label.expand(4, 10), dim=1, index=index.long())\n",
    "print(out)"
   ]
  }
 ],
 "metadata": {
  "kernelspec": {
   "display_name": "Python 3",
   "language": "python",
   "name": "python3"
  },
  "language_info": {
   "codemirror_mode": {
    "name": "ipython",
    "version": 3
   },
   "file_extension": ".py",
   "mimetype": "text/x-python",
   "name": "python",
   "nbconvert_exporter": "python",
   "pygments_lexer": "ipython3",
   "version": "3.9.18"
  }
 },
 "nbformat": 4,
 "nbformat_minor": 2
}
