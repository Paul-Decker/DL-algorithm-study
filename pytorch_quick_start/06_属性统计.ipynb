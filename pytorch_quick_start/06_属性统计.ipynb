{
 "cells": [
  {
   "cell_type": "markdown",
   "metadata": {},
   "source": [
    "### tensor.norm 求范数"
   ]
  },
  {
   "cell_type": "code",
   "execution_count": 10,
   "metadata": {},
   "outputs": [
    {
     "name": "stdout",
     "output_type": "stream",
     "text": [
      "tensor(8.) tensor(8.) tensor(8.)\n",
      "tensor(2.8284) tensor(2.8284) tensor(2.8284)\n",
      "tensor([4., 4.])\n",
      "tensor([[1.4142, 1.4142],\n",
      "        [1.4142, 1.4142]])\n"
     ]
    }
   ],
   "source": [
    "import torch \n",
    "a = torch.full([8], 1, dtype=torch.float)\n",
    "\n",
    "b = a.view(2, 4)\n",
    "c = a.view(2, 2, 2)\n",
    "\n",
    "# l-1 范数\n",
    "print(a.norm(1), b.norm(1), c.norm(1))\n",
    "\n",
    "# l-2 范数\n",
    "print(a.norm(2), b.norm(2), c.norm(2))\n",
    "\n",
    "# 在指定维度上求 l-1 范数\n",
    "print(b.norm(1, dim=1))\n",
    "# 在指定维度上求 l-2 范数\n",
    "print(c.norm(2, dim=1))"
   ]
  },
  {
   "cell_type": "markdown",
   "metadata": {},
   "source": [
    "### .min .max .mean .prod .sum 求最小值、最大值、平均值、累乘值、累加值"
   ]
  },
  {
   "cell_type": "code",
   "execution_count": 24,
   "metadata": {},
   "outputs": [
    {
     "name": "stdout",
     "output_type": "stream",
     "text": [
      "tensor([[[7., 2.],\n",
      "         [0., 4.]],\n",
      "\n",
      "        [[1., 5.],\n",
      "         [6., 3.]]])\n",
      "tensor(0.) tensor(7.) tensor(3.5000) tensor(0.) tensor(28.)\n",
      "tensor(2) tensor(0)\n",
      "tensor([[1, 0],\n",
      "        [0, 1]])\n"
     ]
    }
   ],
   "source": [
    "import torch\n",
    "a = torch.randperm(8).view(2, 2, 2).float()\n",
    "print(a)\n",
    "print(a.min(), a.max(), a.mean(), a.prod(), a.sum())\n",
    "print(a.argmin(), a.argmax())\n",
    "print(a.argmin(dim=2))"
   ]
  },
  {
   "cell_type": "markdown",
   "metadata": {},
   "source": [
    "### dim、keepdim 参数"
   ]
  },
  {
   "cell_type": "code",
   "execution_count": 9,
   "metadata": {},
   "outputs": [
    {
     "name": "stdout",
     "output_type": "stream",
     "text": [
      "tensor([[11., 37.,  2.,  6., 22., 30.,  8., 29., 14., 38.],\n",
      "        [13., 20., 12., 33., 15.,  7., 21.,  0.,  9., 26.],\n",
      "        [39., 35., 36., 34.,  5., 27., 32.,  3., 19., 18.],\n",
      "        [23., 24.,  4., 28., 16., 31., 10., 25., 17.,  1.]])\n",
      "torch.return_types.max(\n",
      "values=tensor([38., 33., 39., 31.]),\n",
      "indices=tensor([9, 3, 0, 5]))\n",
      "tensor([9, 3, 0, 5])\n",
      "torch.return_types.max(\n",
      "values=tensor([[38.],\n",
      "        [33.],\n",
      "        [39.],\n",
      "        [31.]]),\n",
      "indices=tensor([[9],\n",
      "        [3],\n",
      "        [0],\n",
      "        [5]]))\n",
      "tensor([[9],\n",
      "        [3],\n",
      "        [0],\n",
      "        [5]])\n"
     ]
    }
   ],
   "source": [
    "import torch\n",
    "a = torch.randperm(40).view(4, 10).float()\n",
    "print(a)\n",
    "print(a.max(dim=1))\n",
    "print(a.argmax(dim=1))\n",
    "\n",
    "print(a.max(dim=1, keepdim=True))\n",
    "print(a.argmax(dim=1, keepdim=True))"
   ]
  },
  {
   "cell_type": "markdown",
   "metadata": {},
   "source": [
    "### tensor.topk(k)：取数值大小排前 k 名的数值"
   ]
  },
  {
   "cell_type": "code",
   "execution_count": 13,
   "metadata": {},
   "outputs": [
    {
     "name": "stdout",
     "output_type": "stream",
     "text": [
      "tensor([[38.,  7., 16., 29., 21., 31.,  5., 36.,  1., 24.],\n",
      "        [18., 13., 39., 22.,  8., 37., 11., 17., 33.,  6.],\n",
      "        [23., 25., 34., 30., 14.,  0., 19., 12., 27., 15.],\n",
      "        [20.,  9., 35., 26.,  3.,  4., 10., 28.,  2., 32.]])\n",
      "torch.return_types.topk(\n",
      "values=tensor([[38., 36., 31.],\n",
      "        [39., 37., 33.],\n",
      "        [34., 30., 27.],\n",
      "        [35., 32., 28.]]),\n",
      "indices=tensor([[0, 7, 5],\n",
      "        [2, 5, 8],\n",
      "        [2, 3, 8],\n",
      "        [2, 9, 7]]))\n",
      "torch.return_types.topk(\n",
      "values=tensor([[ 1.,  5.,  7.],\n",
      "        [ 6.,  8., 11.],\n",
      "        [ 0., 12., 14.],\n",
      "        [ 2.,  3.,  4.]]),\n",
      "indices=tensor([[8, 6, 1],\n",
      "        [9, 4, 6],\n",
      "        [5, 7, 4],\n",
      "        [8, 4, 5]]))\n"
     ]
    }
   ],
   "source": [
    "import torch\n",
    "a = torch.randperm(40).view(4, 10).float()\n",
    "print(a)\n",
    "# 取数值大小排前 k 名的数值（最大 k 个数）\n",
    "print(a.topk(3, dim=1))\n",
    "\n",
    "# 取数值大小排后 k 名的数值（最小 k 个数）\n",
    "print(a.topk(3, dim=1, largest=False))"
   ]
  },
  {
   "cell_type": "markdown",
   "metadata": {},
   "source": [
    "### tensor.kthvalue(k)：取数值排在第 k 小的数值"
   ]
  },
  {
   "cell_type": "code",
   "execution_count": 3,
   "metadata": {},
   "outputs": [
    {
     "name": "stdout",
     "output_type": "stream",
     "text": [
      "tensor([[32.,  6., 26., 37., 21., 28.,  1., 24., 25., 35.],\n",
      "        [15.,  5., 39., 18.,  3., 12.,  7., 30.,  9., 10.],\n",
      "        [31., 38., 13.,  0., 11.,  4., 22.,  2., 14., 20.],\n",
      "        [27., 33., 29., 34., 19., 16.,  8., 23., 36., 17.]])\n",
      "torch.return_types.kthvalue(\n",
      "values=tensor([21.,  7.,  4., 17.]),\n",
      "indices=tensor([4, 6, 5, 9]))\n"
     ]
    }
   ],
   "source": [
    "import torch\n",
    "a = torch.randperm(40).view(4, 10).float()\n",
    "print(a)\n",
    "# 在指定维度上取排在第 3 小的数值\n",
    "print(a.kthvalue(3, dim=1))"
   ]
  },
  {
   "cell_type": "markdown",
   "metadata": {},
   "source": [
    "### 比较：>、>=、<、<=、!=、=="
   ]
  },
  {
   "cell_type": "code",
   "execution_count": 10,
   "metadata": {},
   "outputs": [
    {
     "name": "stdout",
     "output_type": "stream",
     "text": [
      "tensor([[ 4.,  6., 34., 35.,  1., 37.,  5., 10., 38., 14.],\n",
      "        [17., 18., 39., 25.,  0., 27., 28.,  9.,  7., 15.],\n",
      "        [13.,  8., 20., 24., 11., 19., 22., 30., 31., 12.],\n",
      "        [29., 23., 36., 26., 33.,  2., 16.,  3., 21., 32.]])\n",
      "tensor([[False,  True,  True,  True, False,  True, False,  True,  True,  True],\n",
      "        [ True,  True,  True,  True, False,  True,  True,  True,  True,  True],\n",
      "        [ True,  True,  True,  True,  True,  True,  True,  True,  True,  True],\n",
      "        [ True,  True,  True,  True,  True, False,  True, False,  True,  True]])\n",
      "tensor([[False,  True,  True,  True, False,  True, False,  True,  True,  True],\n",
      "        [ True,  True,  True,  True, False,  True,  True,  True,  True,  True],\n",
      "        [ True,  True,  True,  True,  True,  True,  True,  True,  True,  True],\n",
      "        [ True,  True,  True,  True,  True, False,  True, False,  True,  True]])\n",
      "tensor([[False,  True, False, False, False, False, False, False, False, False],\n",
      "        [False, False, False, False, False, False, False, False, False, False],\n",
      "        [False, False, False, False, False, False, False, False, False, False],\n",
      "        [False, False, False, False, False, False, False, False, False, False]])\n",
      "tensor([[False,  True, False, False, False, False, False, False, False, False],\n",
      "        [False, False, False, False, False, False, False, False, False, False],\n",
      "        [False, False, False, False, False, False, False, False, False, False],\n",
      "        [False, False, False, False, False, False, False, False, False, False]])\n",
      "tensor([[True, True, True, True, True, True, True, True, True, True],\n",
      "        [True, True, True, True, True, True, True, True, True, True],\n",
      "        [True, True, True, True, True, True, True, True, True, True],\n",
      "        [True, True, True, True, True, True, True, True, True, True]])\n",
      "tensor([[True, True, True, True, True, True, True, True, True, True],\n",
      "        [True, True, True, True, True, True, True, True, True, True],\n",
      "        [True, True, True, True, True, True, True, True, True, True],\n",
      "        [True, True, True, True, True, True, True, True, True, True]])\n",
      "True\n"
     ]
    }
   ],
   "source": [
    "import torch\n",
    "a = torch.randperm(40).view(4, 10).float()\n",
    "print(a)\n",
    "\n",
    "# tensor 中大于 5 的数值\n",
    "print(a>5)\n",
    "print(torch.gt(a, 5))\n",
    "\n",
    "# tensor 中等于 6 的数值\n",
    "print(a==6)\n",
    "print(torch.eq(a, 6))\n",
    "\n",
    "print(a==a)\n",
    "print(torch.eq(a, a))\n",
    "\n",
    "print(torch.equal(a, a))"
   ]
  }
 ],
 "metadata": {
  "kernelspec": {
   "display_name": "Python 3",
   "language": "python",
   "name": "python3"
  },
  "language_info": {
   "codemirror_mode": {
    "name": "ipython",
    "version": 3
   },
   "file_extension": ".py",
   "mimetype": "text/x-python",
   "name": "python",
   "nbconvert_exporter": "python",
   "pygments_lexer": "ipython3",
   "version": "3.9.18"
  }
 },
 "nbformat": 4,
 "nbformat_minor": 2
}
