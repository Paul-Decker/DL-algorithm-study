{
 "cells": [
  {
   "cell_type": "markdown",
   "metadata": {},
   "source": [
    "### CUDA 张量"
   ]
  },
  {
   "cell_type": "markdown",
   "metadata": {},
   "source": [
    "`Tensors` 可以通过 `.to` 方法转换到不同的设备上，即 CPU 或者 GPU 上\n",
    "\n",
    "CPU 与 GPU 的 Tensor 类型是不同的\n",
    "\n",
    "CPU 中的张量类型有：torch.FloatTensor、torch.ByteTensor、torch.InTensor、torch.LongTensor …\n",
    "\n",
    "GPU 中对应的是 torch.cuda.FloatTensor、torch.cuda.ByteTensor、torch.cuda.InTensor、torch.cuda.LongTensor …"
   ]
  },
  {
   "cell_type": "code",
   "execution_count": null,
   "metadata": {},
   "outputs": [
    {
     "name": "stdout",
     "output_type": "stream",
     "text": [
      "tensor([1.7281], device='cuda:0')\n",
      "tensor([1.7281], dtype=torch.float64)\n"
     ]
    }
   ],
   "source": [
    "# 当 CUDA 可用的时候，可用运行下方这段代码，采用 torch.device() 方法来改变 tensors 是否在 GPU 上进行计算操作\n",
    "if torch.cuda.is_available():\n",
    "    device = torch.device(\"cuda\")          # 定义一个 CUDA 设备对象\n",
    "    y = torch.ones_like(x, device=device)  # 显示创建在 GPU 上的一个 tensor\n",
    "    x = x.to(device)                       # 也可以采用 .to(\"cuda\") \n",
    "    z = x + y\n",
    "    print(z)\n",
    "    print(z.to(\"cpu\", torch.double))       # .to() 方法也可以改变数值类型"
   ]
  }
 ],
 "metadata": {
  "kernelspec": {
   "display_name": "Python 3",
   "language": "python",
   "name": "python3"
  },
  "language_info": {
   "name": "python",
   "version": "3.9.18"
  }
 },
 "nbformat": 4,
 "nbformat_minor": 2
}
