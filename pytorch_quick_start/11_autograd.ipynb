{
 "cells": [
  {
   "cell_type": "markdown",
   "metadata": {},
   "source": [
    "对于 Pytorch 的神经网络来说，非常关键的一个库就是 `autograd` ，它主要是提供了对 Tensors 上所有运算操作的自动微分功能，也就是计算梯度的功能\n",
    "\n",
    "它属于 `define-by-run` 类型框架，即反向传播操作的定义是根据代码的运行方式，因此每次迭代都可以是不同的\n",
    "\n",
    "接下来会简单介绍一些例子来说明这个库的作用"
   ]
  },
  {
   "cell_type": "markdown",
   "metadata": {},
   "source": [
    "### 张量"
   ]
  },
  {
   "cell_type": "code",
   "execution_count": null,
   "metadata": {},
   "outputs": [
    {
     "name": "stdout",
     "output_type": "stream",
     "text": [
      "tensor([[1., 1.],\n",
      "        [1., 1.]], requires_grad=True)\n"
     ]
    }
   ],
   "source": [
    "import torch \n",
    "# 开始创建一个 tensor， 并设置 requires_grad=True 来追踪该变量相关的计算操作：\n",
    "x = torch.ones(2, 2, requires_grad=True)\n",
    "print(x)"
   ]
  },
  {
   "cell_type": "code",
   "execution_count": null,
   "metadata": {},
   "outputs": [
    {
     "name": "stdout",
     "output_type": "stream",
     "text": [
      "tensor([[3., 3.],\n",
      "        [3., 3.]], grad_fn=<AddBackward0>)\n"
     ]
    }
   ],
   "source": [
    "# 执行任意计算操作，这里进行简单的加法运算：\n",
    "y = x + 2\n",
    "print(y)"
   ]
  },
  {
   "cell_type": "code",
   "execution_count": null,
   "metadata": {},
   "outputs": [
    {
     "name": "stdout",
     "output_type": "stream",
     "text": [
      "<AddBackward0 object at 0x0000013EC8F859A0>\n"
     ]
    }
   ],
   "source": [
    "# y 是一个操作的结果，所以它带有属性 grad_fn：\n",
    "print(y.grad_fn)"
   ]
  },
  {
   "cell_type": "code",
   "execution_count": null,
   "metadata": {},
   "outputs": [
    {
     "name": "stdout",
     "output_type": "stream",
     "text": [
      "z= tensor([[27., 27.],\n",
      "        [27., 27.]], grad_fn=<MulBackward0>)\n",
      "out= tensor(27., grad_fn=<MeanBackward0>)\n"
     ]
    }
   ],
   "source": [
    "# 继续对变量 y 进行操作：\n",
    "z = y * y * 3\n",
    "out = z.mean()\n",
    "print('z=', z)\n",
    "print('out=', out)"
   ]
  },
  {
   "cell_type": "code",
   "execution_count": null,
   "metadata": {},
   "outputs": [
    {
     "name": "stdout",
     "output_type": "stream",
     "text": [
      "False\n",
      "True\n",
      "<SumBackward0 object at 0x0000013EC8E97760>\n"
     ]
    }
   ],
   "source": [
    "a = torch.randn(2, 2)\n",
    "a = ((a * 3) / (a - 1))\n",
    "print(a.requires_grad)\n",
    "a.requires_grad_(True)\n",
    "print(a.requires_grad)\n",
    "b = (a * a).sum()\n",
    "print(b.grad_fn)"
   ]
  },
  {
   "cell_type": "markdown",
   "metadata": {},
   "source": [
    "### 梯度"
   ]
  },
  {
   "cell_type": "code",
   "execution_count": null,
   "metadata": {},
   "outputs": [
    {
     "name": "stdout",
     "output_type": "stream",
     "text": [
      "tensor([[4.5000, 4.5000],\n",
      "        [4.5000, 4.5000]])\n"
     ]
    }
   ],
   "source": [
    "out.backward()\n",
    "# 输出梯度 d(out)/dx\n",
    "print(x.grad)"
   ]
  },
  {
   "cell_type": "code",
   "execution_count": null,
   "metadata": {},
   "outputs": [
    {
     "name": "stdout",
     "output_type": "stream",
     "text": [
      "tensor([ 152.5833,  684.7393, -792.4349], grad_fn=<MulBackward0>)\n"
     ]
    }
   ],
   "source": [
    "x = torch.randn(3, requires_grad=True)\n",
    "\n",
    "y = x * 2\n",
    "# tensor1.data：返回一个和 tensor1 有着相同数据的 tensor，且返回的新 tensor 与 tensor1 共享同一个内存空间\n",
    "# tensor.data.norm()：它对张量y每个元素进行平方，然后对它们求和，最后取平方根。 这些操作计算就是所谓的L2或欧几里德范数 \n",
    "while y.data.norm() < 1000:\n",
    "    y = y * 2\n",
    "\n",
    "print(y)"
   ]
  },
  {
   "cell_type": "code",
   "execution_count": null,
   "metadata": {},
   "outputs": [
    {
     "name": "stdout",
     "output_type": "stream",
     "text": [
      "tensor([5.1200e+01, 5.1200e+02, 5.1200e-02])\n"
     ]
    }
   ],
   "source": [
    "v = torch.tensor([0.1, 1.0, 0.0001], dtype=torch.float)\n",
    "y.backward(v)\n",
    "\n",
    "print(x.grad)"
   ]
  },
  {
   "cell_type": "code",
   "execution_count": null,
   "metadata": {},
   "outputs": [
    {
     "name": "stdout",
     "output_type": "stream",
     "text": [
      "True\n",
      "True\n",
      "False\n"
     ]
    }
   ],
   "source": [
    "print(x.requires_grad)\n",
    "print((x ** 2).requires_grad)\n",
    "\n",
    "with torch.no_grad():\n",
    "    print((x ** 2).requires_grad)"
   ]
  },
  {
   "cell_type": "markdown",
   "metadata": {},
   "source": [
    "# ----------------------"
   ]
  },
  {
   "cell_type": "markdown",
   "metadata": {},
   "source": [
    "### autograd.grad() 求导"
   ]
  },
  {
   "cell_type": "code",
   "execution_count": 19,
   "metadata": {},
   "outputs": [
    {
     "name": "stdout",
     "output_type": "stream",
     "text": [
      "tensor([1.])\n",
      "tensor([2.], requires_grad=True)\n",
      "tensor([1.], requires_grad=True)\n",
      "(tensor([2.]),)\n"
     ]
    }
   ],
   "source": [
    "import torch \n",
    "from torch.nn import functional as F\n",
    "x = torch.ones(1)\n",
    "print(x)\n",
    "w = torch.full([1], 2, dtype=torch.float)\n",
    "# 一定要在创建损失函数前将 w 的 requires_grad 属性设置为 True\n",
    "# 表示该 tensor 对象需要梯度信息\n",
    "w.requires_grad_()\n",
    "print(w)\n",
    "# 除了使用 tensor.requires_grad_() 方法将 tensor 的 requires_grad 属性改为 True 外\n",
    "# 还可以在创建 tensor 时就设置 requires_grad 属性\n",
    "b = torch.ones(1, requires_grad=True)\n",
    "print(b)\n",
    "\n",
    "# mse：均方差\n",
    "# F.mse_loss(x*w, torch.ones(1)) 第一个参数是预测值（得分函数），第二个参数是 label（反过来其实也一样，因为要进行平方）\n",
    "# 损失函数 loss = sum[(x*w-y)^2]\n",
    "mse = F.mse_loss(x*w, torch.ones(1))\n",
    "# 计算梯度\n",
    "# 第一个参数是 loss 函数，第二个参数是个要被函数求偏导的所有自变量组成的列表\n",
    "print(torch.autograd.grad(mse, [w]))\n"
   ]
  },
  {
   "cell_type": "markdown",
   "metadata": {},
   "source": [
    "### loss.backward() 求导"
   ]
  },
  {
   "cell_type": "code",
   "execution_count": 21,
   "metadata": {},
   "outputs": [
    {
     "name": "stdout",
     "output_type": "stream",
     "text": [
      "tensor([1.])\n",
      "tensor([2.], requires_grad=True)\n",
      "tensor([2.])\n"
     ]
    }
   ],
   "source": [
    "import torch \n",
    "from torch.nn import functional as F\n",
    "x = torch.ones(1)\n",
    "print(x)\n",
    "w = torch.full([1], 2, dtype=torch.float)\n",
    "# 将 tensor 的 requires_grad 属性设置为 True，表示开始追踪该变量上的所有操作\n",
    "w.requires_grad_()\n",
    "print(w)\n",
    "\n",
    "# mse：均方差\n",
    "# F.mse_loss(x*w, torch.ones(1)) 第一个参数是预测值（得分函数），第二个参数是 label（反过来其实也一样，因为要进行平方）\n",
    "# 损失函数 loss = sum[(x*w-y)^2]\n",
    "mse = F.mse_loss(x*w, torch.ones(1))\n",
    "# 反向传播，自动计算梯度，没有返回值，梯度保存在属性 grad 中 \n",
    "mse.backward()\n",
    "print(w.grad)\n"
   ]
  }
 ],
 "metadata": {
  "kernelspec": {
   "display_name": "deeplearning",
   "language": "python",
   "name": "python3"
  },
  "language_info": {
   "codemirror_mode": {
    "name": "ipython",
    "version": 3
   },
   "file_extension": ".py",
   "mimetype": "text/x-python",
   "name": "python",
   "nbconvert_exporter": "python",
   "pygments_lexer": "ipython3",
   "version": "3.9.18"
  }
 },
 "nbformat": 4,
 "nbformat_minor": 2
}
